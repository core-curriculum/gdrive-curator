{
 "cells": [
  {
   "attachments": {},
   "cell_type": "markdown",
   "metadata": {},
   "source": [
    "# Output relations\n",
    "\n",
    "output relation from 2016 to 2022\n",
    "\n",
    "- relations/y2016_layer5_to_y2022_layer4.csv\n",
    "- relations/y2016_layer5_to_y2022_tables.csv\n",
    "- relations/y2016_layer5_to_y2022_others.csv"
   ]
  },
  {
   "cell_type": "code",
   "execution_count": null,
   "metadata": {},
   "outputs": [],
   "source": [
    "\"\"\"\n",
    "output relations/y2016_layer5_to_y2022_layer4.csv\n",
    "output relations/y2016_layer5_to_y2022_tables.csv\n",
    "\"\"\"\n",
    "\n",
    "import pandas as pd\n",
    "import glob\n",
    "import re\n",
    "import csv\n",
    "import os\n",
    "from os import path\n",
    "from lib.vars import dirs\n",
    "from lib.utils import get_glob_file,save_csv\n",
    "from lib.tables_utils import iter_tables_for_outcome_raw\n",
    "\n",
    "os.makedirs(f\"{dirs().output.relations_2016}\", exist_ok=True)\n",
    "\n",
    "def expand_y2016_id(df:pd.DataFrame)->pd.DataFrame:\n",
    "    df = df.dropna(subset=[\"y2016_id\"])\n",
    "    splitted_y2016_ids = df.loc[:,\"y2016_id\"].str.split(\" *,|、 *\",regex=True)   \n",
    "    df.loc[:,\"y2016_id\"] = splitted_y2016_ids\n",
    "    df = df.explode(\"y2016_id\")\n",
    "    df.loc[:,\"y2016_id\"] = df.loc[:,\"y2016_id\"].str.replace(\"(なし)|(新設)|(新規)| |　\",\"\",regex=True)\n",
    "    return df[df[\"y2016_id\"]!=\"\"]    \n",
    "\n",
    "\n",
    "# output y2016_layer5_to_y2022_layer4.csv\n",
    "df = pd.DataFrame([])\n",
    "for filename in glob.glob(f\"{dirs().input.sheets.outcomes}/*/第2から4層.csv\"):\n",
    "    l4=pd.read_csv(filename)\n",
    "    l4=l4.rename(columns={\"id\":\"y2022_id\",\"H28対応項目\":\"y2016_id\"})\n",
    "    df= pd.concat([df,l4.loc[:,[\"y2016_id\",\"y2022_id\"]]])\n",
    "df = expand_y2016_id(df)\n",
    "save_csv(df,path.join(dirs().output.relations_2016,\"y2016_layer5_to_y2022_layer4.csv\"))\n",
    "print(f\"output... relations/y2016_layer5_to_y2022_layer4.csv\")\n",
    "\n",
    "# output y2016_layer5_to_y2022_tables.csv\n",
    "df = pd.DataFrame([])\n",
    "for table,info in iter_tables_for_outcome_raw():\n",
    "    table = table\\\n",
    "        .rename(columns={\"H28対応項目\":\"y2016_id\",\"id\":\"y2022_id\"})\\\n",
    "        .loc[:,[\"y2016_id\",\"y2022_id\"]]\n",
    "    df= pd.concat([df,table])\n",
    "df = expand_y2016_id(df)\n",
    "save_csv(df,path.join(dirs().output.relations_2016,\"y2016_layer5_to_y2022_tables.csv\"))\n",
    "print(f\"output... relations/y2016_layer5_to_y2022_tables.csv\")\n"
   ]
  },
  {
   "cell_type": "code",
   "execution_count": null,
   "metadata": {},
   "outputs": [],
   "source": [
    "\"\"\"\n",
    "output relations/y2016_layer5_to_y2022_others.csv\n",
    "\"\"\"\n",
    "\n",
    "import pandas as pd\n",
    "import glob\n",
    "import re\n",
    "import csv\n",
    "import os\n",
    "from os import path\n",
    "from lib.vars import dirs\n",
    "from lib.utils import get_glob_file,save_csv,load_csv\n",
    "from lib.tables_utils import iter_tables_for_outcome_raw\n",
    "\n",
    "os.makedirs(f\"{dirs().output.relations_2016}\", exist_ok=True)\n",
    "df = load_csv(path.join(dirs().input.sheets.general,\"H28との対応(特殊な対応項目のみ)\",\"H28との対応追加項目.csv\"))\\\n",
    "    .rename(columns={\"対応項目\":\"y2022_comment\",\"H28ID\":\"y2016_id\",\"id\":\"y2022_id\"})\n",
    "df = df.loc[:,[\"y2016_id\",\"y2022_id\",\"y2022_comment\"]]\n",
    "save_csv(df,path.join(dirs().output.relations_2016,\"y2016_layer5_to_y2022_others.csv\"))\n",
    "print(f\"output... relations/y2016_layer5_to_y2022_others.csv\")\n"
   ]
  }
 ],
 "metadata": {
  "kernelspec": {
   "display_name": "Python 3.10.3 64-bit",
   "language": "python",
   "name": "python3"
  },
  "language_info": {
   "codemirror_mode": {
    "name": "ipython",
    "version": 3
   },
   "file_extension": ".py",
   "mimetype": "text/x-python",
   "name": "python",
   "nbconvert_exporter": "python",
   "pygments_lexer": "ipython3",
   "version": "3.10.3 (main, Mar 18 2022, 16:01:59) [GCC 10.2.1 20210110]"
  },
  "vscode": {
   "interpreter": {
    "hash": "949777d72b0d2535278d3dc13498b2535136f6dfe0678499012e853ee9abcab1"
   }
  }
 },
 "nbformat": 4,
 "nbformat_minor": 2
}
