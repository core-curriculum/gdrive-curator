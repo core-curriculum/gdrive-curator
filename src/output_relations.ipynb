{
 "cells": [
  {
   "cell_type": "markdown",
   "metadata": {},
   "source": [
    "# Output relations\n",
    "\n",
    "output relation from 2016 to 2022\n",
    "\n",
    "- relations/relations.csv\n",
    "- relations/relations_spacial.csv\n",
    "- relations/deleted_or_moved.csv"
   ]
  },
  {
   "cell_type": "code",
   "execution_count": 1,
   "metadata": {},
   "outputs": [
    {
     "name": "stdout",
     "output_type": "stream",
     "text": [
      "output... relations.csv\n"
     ]
    }
   ],
   "source": [
    "# Output relation from 2016\n",
    "\n",
    "import pandas as pd\n",
    "import glob\n",
    "import re\n",
    "import csv\n",
    "import os\n",
    "from lib.utils import BASE_DIR,SHEETS_OUTCOMES_DIR,OUTPUT_DIR,get_glob_file,OUTPUT_RELATIONS_DIR\n",
    "from lib.outcomes_utils import iter_tables_for_outcome_raw\n",
    "\n",
    "os.makedirs(f\"{OUTPUT_RELATIONS_DIR}\", exist_ok=True)\n",
    "df = pd.DataFrame([])\n",
    "for filename in glob.glob(f\"{SHEETS_OUTCOMES_DIR}/*/第2から4層.csv\"):\n",
    "    l4=pd.read_csv(filename)\n",
    "    l4=l4.rename(columns={\"UID\":\"ID2022\",\"H28対応項目\":\"ID2016\"})\n",
    "    df= pd.concat([df,l4.loc[:,[\"ID2016\",\"ID2022\"]]])\n",
    "\n",
    "for table,info in iter_tables_for_outcome_raw():\n",
    "    table = table\\\n",
    "        .rename(columns={\"H28対応項目\":\"ID2016\",\"UID\":\"ID2022\"})\\\n",
    "        .loc[:,[\"ID2016\",\"ID2022\"]]\n",
    "    df= pd.concat([df,table])\n",
    "\n",
    "df = df.dropna(subset=[\"ID2016\"])    \n",
    "df.loc[:,\"ID2016\"] = df.loc[:,\"ID2016\"].str.split(\" *,|、 *\",regex=True)\n",
    "df = df.explode(\"ID2016\")\n",
    "df.loc[:,\"ID2016\"] = df.loc[:,\"ID2016\"].str.replace(\"(なし)|(新設)|(新規)| |　\",\"\",regex=True)\n",
    "df = df[df[\"ID2016\"]!=\"\"]    \n",
    "\n",
    "df.to_csv(f\"{OUTPUT_RELATIONS_DIR}/relations.csv\",encoding=\"utf_8_sig\",quoting=csv.QUOTE_NONNUMERIC,index=False)\n",
    "print(f\"output... relations.csv\")\n"
   ]
  },
  {
   "cell_type": "code",
   "execution_count": 2,
   "metadata": {},
   "outputs": [
    {
     "name": "stdout",
     "output_type": "stream",
     "text": [
      "output... relations_spacial.csv\n"
     ]
    }
   ],
   "source": [
    "# Output relation(spacial) from 2016\n",
    "\n",
    "import pandas as pd\n",
    "import glob\n",
    "import re\n",
    "import csv\n",
    "import os\n",
    "from lib.utils import BASE_DIR,SHEETS_OUTCOMES_DIR,OUTPUT_DIR,get_glob_file,OUTPUT_RELATIONS_DIR,SHEETS_DIR\n",
    "from lib.outcomes_utils import iter_tables_for_outcome_raw\n",
    "\n",
    "os.makedirs(f\"{OUTPUT_RELATIONS_DIR}\", exist_ok=True)\n",
    "df = pd.read_csv(f\"{SHEETS_DIR}/general/H28との対応(特殊な対応項目のみ)/H28との対応追加項目.csv\")\\\n",
    "    .rename(columns={\"対応項目\":\"item2022\",\"H28ID\":\"ID2016\"})\n",
    "df = df.loc[:,[\"ID2016\",\"item2022\"]]\n",
    "df.to_csv(f\"{OUTPUT_RELATIONS_DIR}/relations_spacial.csv\",encoding=\"utf_8_sig\",quoting=csv.QUOTE_NONNUMERIC,index=False)\n",
    "print(f\"output... relations_spacial.csv\")\n"
   ]
  },
  {
   "cell_type": "code",
   "execution_count": 3,
   "metadata": {},
   "outputs": [
    {
     "name": "stdout",
     "output_type": "stream",
     "text": [
      "output... deleted_or_moved.csv\n"
     ]
    }
   ],
   "source": [
    "# Output deleted or moved from 2016\n",
    "\n",
    "import pandas as pd\n",
    "import glob\n",
    "import re\n",
    "import csv\n",
    "import os\n",
    "from lib.utils import BASE_DIR,SHEETS_OUTCOMES_DIR,OUTPUT_DIR,get_glob_file,OUTPUT_RELATIONS_DIR\n",
    "\n",
    "os.makedirs(f\"{OUTPUT_RELATIONS_DIR}\", exist_ok=True)\n",
    "\n",
    "df = pd.DataFrame([])\n",
    "for filename in glob.glob(f\"{SHEETS_OUTCOMES_DIR}/*/行き先がないID.csv\"):\n",
    "    unit = pd.read_csv(filename,encoding=\"utf_8_sig\")\\\n",
    "        .rename(columns={\"H28ID\":\"ID2016\"})\n",
    "    unit[\"teamIn2022\"]=os.path.basename(os.path.dirname(filename))\n",
    "    df= pd.concat([df,unit.loc[:,[\"ID2016\",\"理由・コメント\",\"teamIn2022\"]]])\n",
    "\n",
    "\n",
    "df = df.dropna(subset=[\"ID2016\"])    \n",
    "df.to_csv(f\"{OUTPUT_RELATIONS_DIR}/deleted_or_moved.csv\",encoding=\"utf_8_sig\",quoting=csv.QUOTE_NONNUMERIC,index=False)\n",
    "print(f\"output... deleted_or_moved.csv\")\n",
    "\n"
   ]
  }
 ],
 "metadata": {
  "kernelspec": {
   "display_name": "Python 3.10.3 64-bit",
   "language": "python",
   "name": "python3"
  },
  "language_info": {
   "codemirror_mode": {
    "name": "ipython",
    "version": 3
   },
   "file_extension": ".py",
   "mimetype": "text/x-python",
   "name": "python",
   "nbconvert_exporter": "python",
   "pygments_lexer": "ipython3",
   "version": "3.10.3"
  },
  "orig_nbformat": 4,
  "vscode": {
   "interpreter": {
    "hash": "949777d72b0d2535278d3dc13498b2535136f6dfe0678499012e853ee9abcab1"
   }
  }
 },
 "nbformat": 4,
 "nbformat_minor": 2
}
