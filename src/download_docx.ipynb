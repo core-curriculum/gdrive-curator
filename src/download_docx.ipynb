{
 "cells": [
  {
   "cell_type": "code",
   "execution_count": null,
   "metadata": {},
   "outputs": [],
   "source": [
    "import os\n",
    "import tempfile\n",
    "import pandas as pd\n",
    "import csv\n",
    "import shutil\n",
    "from lib.vars import dirs\n",
    "from lib.utils import BASE_DIR,DOCS_DIR\n",
    "from lib.export_google_docs import export_google_docs\n",
    "\n",
    "from docx import Document\n",
    "\n",
    "folder_dict={\n",
    "    \"outcomes\": os.environ.get(\"GDRIVE_OUTCOME\",\"\"), #資質・能力\n",
    "}\n",
    "DIST_DIR=dirs().source.docs.outcomes\n",
    "\n",
    "os.makedirs(DIST_DIR,exist_ok=True)\n",
    "\n",
    "try:\n",
    "    with tempfile.TemporaryDirectory() as temp_dir:\n",
    "        file_list=export_google_docs(folder_dict,dist_dir=temp_dir)\n",
    "        for file in file_list:\n",
    "            doc_file = Document(file[\"export_path\"])\n",
    "            name = file['name']\n",
    "            text = \"\\n\".join([para.text for para in doc_file.paragraphs])\n",
    "            with open(os.path.join(DIST_DIR,f\"{name}.txt\"),\"w\") as f:\n",
    "                f.write(text)\n",
    "except:\n",
    "    raise\n"
   ]
  }
 ],
 "metadata": {
  "interpreter": {
   "hash": "949777d72b0d2535278d3dc13498b2535136f6dfe0678499012e853ee9abcab1"
  },
  "kernelspec": {
   "display_name": "Python 3.10.3 64-bit",
   "language": "python",
   "name": "python3"
  },
  "language_info": {
   "codemirror_mode": {
    "name": "ipython",
    "version": 3
   },
   "file_extension": ".py",
   "mimetype": "text/x-python",
   "name": "python",
   "nbconvert_exporter": "python",
   "pygments_lexer": "ipython3",
   "version": "3.10.3"
  }
 },
 "nbformat": 4,
 "nbformat_minor": 2
}
