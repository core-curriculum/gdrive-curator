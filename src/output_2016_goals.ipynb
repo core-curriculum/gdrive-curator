{
 "cells": [
  {
   "cell_type": "markdown",
   "metadata": {},
   "source": [
    "# Output 2016 goals\n",
    "\n",
    "depends on download_sheets\n",
    "\n",
    "- 2016/goals.csv"
   ]
  },
  {
   "cell_type": "code",
   "execution_count": null,
   "metadata": {},
   "outputs": [],
   "source": [
    "# output 2016 goals\n",
    "\n",
    "import pandas as pd\n",
    "import re\n",
    "import os\n",
    "from lib.vars import dirs\n",
    "from lib.utils import load_csv,save_csv\n",
    "\n",
    "raw=load_csv(f\"{dirs().input.sheets.general}/H28/H28.csv\")\n",
    "raw\n",
    "\n",
    "\n",
    "data=pd.DataFrame([])\n",
    "data[\"layer1_id\"]=raw[\"第1層（大項目）\"].str.extract(r\"^(.)\")\n",
    "data[\"layer1_item\"]=raw[\"第1層（大項目）\"].str.extract(r\"^. ?(.+)\")\n",
    "data[\"layer2_id\"]=raw[\"第2層（中項目）\"].str.extract(r\"^.\\-(\\d+)\")\n",
    "data[\"layer2_id\"]=data[\"layer1_id\"]+\"-\"+data[\"layer2_id\"].str.zfill(2)\n",
    "data[\"layer2_item\"]=raw[\"第2層（中項目）\"].str.extract(r\"^.\\-\\d+ (.+)\")\n",
    "data[\"layer3_id\"]=raw[\"第3層（小項目）\"].str.extract(r\"^.\\-\\d+\\-(\\d+)\")\n",
    "data[\"layer3_id\"]=data[\"layer2_id\"]+\"-\"+data[\"layer3_id\"].str.zfill(2)\n",
    "data[\"layer3_item\"]=raw[\"第3層（小項目）\"].str.extract(r\"^.\\-\\d+\\-\\d+\\) (.+)\")\n",
    "raw[\"layer3_id\"]=data[\"layer3_id\"]\n",
    "\n",
    "layer4_id_list=[]\n",
    "text4_list=[]\n",
    "current_parent=\"\"\n",
    "prev_text=\"\"\n",
    "current_index=0\n",
    "for index,row in raw.iterrows():\n",
    "  text=row[\"第4層（細小項目）\"]\n",
    "  parent=row[\"layer3_id\"]\n",
    "  if parent!= current_parent:\n",
    "    current_index=0\n",
    "    prev_text=\"\"\n",
    "  if prev_text!= text:\n",
    "    current_index=current_index+1\n",
    "  current_parent=parent\n",
    "  prev_text=text\n",
    "  if text==\"なし\":\n",
    "    layer4_id_list.append(f\"{parent}-na\")\n",
    "    text4_list.append(text)\n",
    "  else:\n",
    "    layer4_id_list.append(f\"{parent}-{str(current_index).zfill(2)}\")\n",
    "    text4_list.append(re.sub(r\"^.\\-\\d+\\-\\d+\\)\\-\\(\\d+\\) \",\"\",str(text)))\n",
    "\n",
    "data[\"layer4_id\"]=layer4_id_list\n",
    "data[\"layer4_item\"]=text4_list\n",
    "raw[\"layer4_id\"]=data[\"layer4_id\"]\n",
    "\n",
    "layer5_id_list=[]\n",
    "text5_list=[]\n",
    "current_parent=\"\"\n",
    "prev_text=\"\"\n",
    "current_index=0\n",
    "for index,row in raw.iterrows():\n",
    "  text=row[\"第5層（学修目標）\"]\n",
    "  parent=row[\"layer4_id\"]\n",
    "  if parent!= current_parent:\n",
    "    current_index=0\n",
    "    prev_text=\"\"\n",
    "  if prev_text!= text:\n",
    "    current_index=current_index+1\n",
    "  current_parent=parent\n",
    "  prev_text=text\n",
    "  if text==\"なし\":\n",
    "    layer5_id_list.append(f\"{parent}-na\")\n",
    "    text5_list.append(text)\n",
    "  else:\n",
    "    layer5_id_list.append(f\"{parent}-{str(current_index).zfill(2)}\")\n",
    "    item_text=re.sub(r\"^([.０-９0-9]{1,2})( |\\.|．)\",\"\",str(text))\n",
    "    item_text=re.sub(r\"^[①②③④⑤⑥⑦⑧⑨⑩⑪⑫⑬⑭⑮⑯⑰⑱⑲⑳㉑㉒㉓㉔㉕㉖]\",\"\",str(item_text))\n",
    "    text5_list.append(item_text)\n",
    "\n",
    "data[\"layer5_id\"]=layer5_id_list\n",
    "data[\"layer5_item\"]=text5_list\n",
    "\n",
    "os.makedirs(dirs().output.dir_2016,exist_ok=True)\n",
    "save_csv(data,f\"{dirs().output.dir_2016}/goals.csv\")\n",
    "print(f\"output... goals.csv\")\n",
    "data"
   ]
  }
 ],
 "metadata": {
  "kernelspec": {
   "display_name": "Python 3.10.3 64-bit",
   "language": "python",
   "name": "python3"
  },
  "language_info": {
   "codemirror_mode": {
    "name": "ipython",
    "version": 3
   },
   "file_extension": ".py",
   "mimetype": "text/x-python",
   "name": "python",
   "nbconvert_exporter": "python",
   "pygments_lexer": "ipython3",
   "version": "3.10.3 (main, Mar 18 2022, 16:01:59) [GCC 10.2.1 20210110]"
  },
  "vscode": {
   "interpreter": {
    "hash": "949777d72b0d2535278d3dc13498b2535136f6dfe0678499012e853ee9abcab1"
   }
  }
 },
 "nbformat": 4,
 "nbformat_minor": 2
}
