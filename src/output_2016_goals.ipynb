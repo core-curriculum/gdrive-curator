{
 "cells": [
  {
   "cell_type": "markdown",
   "metadata": {},
   "source": [
    "# Output 2016 goals\n",
    "\n",
    "depends on download_sheets\n",
    "\n",
    "- 2016/goals.csv"
   ]
  },
  {
   "cell_type": "code",
   "execution_count": null,
   "metadata": {},
   "outputs": [],
   "source": [
    "# output 2016 goals\n",
    "\n",
    "import pandas as pd\n",
    "import re\n",
    "import os\n",
    "from lib.vars import dirs\n",
    "from lib.utils import load_csv,save_csv\n",
    "\n",
    "raw=load_csv(f\"{dirs().source.sheets.general}/H28/H28.csv\")\n",
    "raw\n",
    "\n",
    "\n",
    "data=pd.DataFrame([])\n",
    "data[\"id1\"]=raw[\"第1層（大項目）\"].str.extract(r\"^(.)\")\n",
    "data[\"text1\"]=raw[\"第1層（大項目）\"].str.extract(r\"^. ?(.+)\")\n",
    "data[\"id2\"]=raw[\"第2層（中項目）\"].str.extract(r\"^.\\-(\\d+)\")\n",
    "data[\"id2\"]=data[\"id1\"]+\"-\"+data[\"id2\"].str.zfill(2)\n",
    "data[\"text2\"]=raw[\"第2層（中項目）\"].str.extract(r\"^.\\-\\d+ (.+)\")\n",
    "data[\"id3\"]=raw[\"第3層（小項目）\"].str.extract(r\"^.\\-\\d+\\-(\\d+)\")\n",
    "data[\"id3\"]=data[\"id2\"]+\"-\"+data[\"id3\"].str.zfill(2)\n",
    "data[\"text3\"]=raw[\"第3層（小項目）\"].str.extract(r\"^.\\-\\d+\\-\\d+\\) (.+)\")\n",
    "raw[\"id3\"]=data[\"id3\"]\n",
    "\n",
    "id4_list=[]\n",
    "text4_list=[]\n",
    "current_parent=\"\"\n",
    "prev_text=\"\"\n",
    "current_index=0\n",
    "for index,row in raw.iterrows():\n",
    "  text=row[\"第4層（細小項目）\"]\n",
    "  parent=row[\"id3\"]\n",
    "  if parent!= current_parent:\n",
    "    current_index=0\n",
    "    prev_text=\"\"\n",
    "  if prev_text!= text:\n",
    "    current_index=current_index+1\n",
    "  current_parent=parent\n",
    "  prev_text=text\n",
    "  if text==\"なし\":\n",
    "    id4_list.append(f\"{parent}-na\")\n",
    "    text4_list.append(text)\n",
    "  else:\n",
    "    id4_list.append(f\"{parent}-{str(current_index).zfill(2)}\")\n",
    "    text4_list.append(re.sub(r\"^.\\-\\d+\\-\\d+\\)\\-\\(\\d+\\) \",\"\",str(text)))\n",
    "\n",
    "data[\"id4\"]=id4_list\n",
    "data[\"text4\"]=text4_list\n",
    "raw[\"id4\"]=data[\"id4\"]\n",
    "\n",
    "id5_list=[]\n",
    "text5_list=[]\n",
    "current_parent=\"\"\n",
    "prev_text=\"\"\n",
    "current_index=0\n",
    "for index,row in raw.iterrows():\n",
    "  text=row[\"第5層（学修目標）\"]\n",
    "  parent=row[\"id4\"]\n",
    "  if parent!= current_parent:\n",
    "    current_index=0\n",
    "    prev_text=\"\"\n",
    "  if prev_text!= text:\n",
    "    current_index=current_index+1\n",
    "  current_parent=parent\n",
    "  prev_text=text\n",
    "  if text==\"なし\":\n",
    "    id5_list.append(f\"{parent}-na\")\n",
    "    text5_list.append(text)\n",
    "  else:\n",
    "    id5_list.append(f\"{parent}-{str(current_index).zfill(2)}\")\n",
    "    item_text=re.sub(r\"^([.０-９0-9]{1,2})( |\\.|．)\",\"\",str(text))\n",
    "    item_text=re.sub(r\"^[①②③④⑤⑥⑦⑧⑨⑩⑪⑫⑬⑭⑮⑯⑰⑱⑲⑳㉑㉒㉓㉔㉕㉖]\",\"\",str(item_text))\n",
    "    text5_list.append(item_text)\n",
    "\n",
    "data[\"id5\"]=id5_list\n",
    "data[\"text5\"]=text5_list\n",
    "\n",
    "os.makedirs(dirs().output.dir_2016,exist_ok=True)\n",
    "save_csv(data,f\"{dirs().output.dir_2016}/goals.csv\")\n",
    "print(f\"output... goals.csv\")\n",
    "data"
   ]
  }
 ],
 "metadata": {
  "kernelspec": {
   "display_name": "Python 3.10.3 64-bit",
   "language": "python",
   "name": "python3"
  },
  "language_info": {
   "codemirror_mode": {
    "name": "ipython",
    "version": 3
   },
   "file_extension": ".py",
   "mimetype": "text/x-python",
   "name": "python",
   "nbconvert_exporter": "python",
   "pygments_lexer": "ipython3",
   "version": "3.10.3"
  },
  "vscode": {
   "interpreter": {
    "hash": "949777d72b0d2535278d3dc13498b2535136f6dfe0678499012e853ee9abcab1"
   }
  }
 },
 "nbformat": 4,
 "nbformat_minor": 2
}
