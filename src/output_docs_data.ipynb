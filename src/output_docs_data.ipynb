{
 "cells": [
  {
   "cell_type": "markdown",
   "metadata": {},
   "source": [
    "# Output docs data\n",
    "\n",
    "depends on download_docx and download_zip_doc\n",
    "\n",
    "- 2022/ja/documents/citations.bib\n",
    "- 2022/ja/documents/documents_index.csv\n",
    "- 2022/ja/documents/content/*.md\n",
    "- 2022/ja/documents/content/about_description.md\n"
   ]
  },
  {
   "cell_type": "code",
   "execution_count": null,
   "metadata": {},
   "outputs": [],
   "source": [
    "import pandas as pd\n",
    "import os\n",
    "from os import path \n",
    "from lib.vars import dirs\n",
    "from lib.utils import load_csv,save_csv, DOCS_SOURCE_DIR,SHEETS_GENERAL_DIR,OUTPUT_DOCS_DIR,OUTPUT_DOCS_CONTENTS_DIR,DOCS_OUTCOMES_DIR\n",
    "import shutil\n",
    "\n",
    "os.makedirs(dirs().output.docs,exist_ok=True)\n",
    "os.makedirs(dirs().output.docs_contents,exist_ok=True)\n",
    "\n",
    "shutil.copytree(dirs().source.docs.docs,dirs().output.docs_contents, dirs_exist_ok=True)\n",
    "shutil.copy(path.join(dirs().output.docs_contents,\"citations.bib\"),path.join(dirs().output.docs,\"citations.bib\"))\n",
    "\n",
    "shutil.copy(path.join(dirs().source.docs.outcomes,\"表記について.txt\"),path.join(dirs().output.docs_contents, \"about_description.md\"))\n",
    "\n",
    "\n",
    "document_index= load_csv(path.join(dirs().source.sheets.general,\"文書一覧\",\"文書一覧.csv\")).loc[:,[\"section\",\"title\",\"filename\"]]\n",
    "save_csv(document_index,path.join(dirs().output.docs,\"index.csv\"))\n"
   ]
  }
 ],
 "metadata": {
  "interpreter": {
   "hash": "949777d72b0d2535278d3dc13498b2535136f6dfe0678499012e853ee9abcab1"
  },
  "kernelspec": {
   "display_name": "Python 3.10.3 64-bit",
   "language": "python",
   "name": "python3"
  },
  "language_info": {
   "codemirror_mode": {
    "name": "ipython",
    "version": 3
   },
   "file_extension": ".py",
   "mimetype": "text/x-python",
   "name": "python",
   "nbconvert_exporter": "python",
   "pygments_lexer": "ipython3",
   "version": "3.10.3"
  }
 },
 "nbformat": 4,
 "nbformat_minor": 2
}
