{
 "cells": [
  {
   "cell_type": "code",
   "execution_count": 4,
   "metadata": {},
   "outputs": [
    {
     "name": "stdout",
     "output_type": "stream",
     "text": [
      "{'general': '1IDl3cSc8u5y4Gf13_PBCEZdFFnDv6Ilz', 'outcomes': '1FlCwwi71s1BI4uhOf2CefX85byj1Alo_'}\n",
      "/workspaces/gdrive-curator/sheets/outcomes/IP-多職種連携能力編集用\n",
      "IP-多職種連携能力編集用 in 2022-11-21T04:07:40.449Z\n",
      "/workspaces/gdrive-curator/sheets/outcomes/GE-総合的に患者・生活者をみる姿勢編集用\n",
      "GE-総合的に患者・生活者をみる姿勢編集用 in 2022-11-21T04:07:35.775Z\n",
      "/workspaces/gdrive-curator/sheets/outcomes/SO-社会における医療の役割の理解編集用\n",
      "SO-社会における医療の役割の理解編集用 in 2022-11-21T04:07:30.821Z\n",
      "/workspaces/gdrive-curator/sheets/general/H28との対応(特殊な対応項目のみ)\n",
      "H28との対応(特殊な対応項目のみ) in 2022-11-21T04:07:19.738Z\n",
      "/workspaces/gdrive-curator/sheets/outcomes/PS-専門知識に基づいた問題解決能力編集用\n",
      "PS-専門知識に基づいた問題解決能力編集用 in 2022-11-21T04:06:16.837Z\n",
      "/workspaces/gdrive-curator/sheets/outcomes/LL-生涯にわたって共に学ぶ姿勢編集用\n",
      "LL-生涯にわたって共に学ぶ姿勢編集用 in 2022-11-21T04:04:41.780Z\n",
      "/workspaces/gdrive-curator/sheets/outcomes/RE-科学的探究編集用\n",
      "RE-科学的探究編集用 in 2022-11-21T03:56:16.655Z\n",
      "/workspaces/gdrive-curator/sheets/outcomes/CM-コミュニケーション能力編集用\n",
      "CM-コミュニケーション能力編集用 in 2022-11-21T03:56:14.011Z\n",
      "/workspaces/gdrive-curator/sheets/outcomes/PR-プロフェッショナリズム編集用\n",
      "PR-プロフェッショナリズム編集用 in 2022-11-21T03:56:06.555Z\n",
      "/workspaces/gdrive-curator/sheets/outcomes/IT-情報・科学技術を活かす能力編集用\n",
      "IT-情報・科学技術を活かす能力編集用 in 2022-11-21T03:53:50.650Z\n",
      "/workspaces/gdrive-curator/sheets/outcomes/CS-患者ケアのための診療技能編集用\n",
      "CS-患者ケアのための診療技能編集用 in 2022-11-21T03:50:23.414Z\n",
      "/workspaces/gdrive-curator/sheets/general/文書一覧\n",
      "文書一覧 in 2022-11-21T03:18:13.829Z\n",
      "/workspaces/gdrive-curator/sheets/outcomes/別表一覧\n",
      "別表一覧 in 2022-10-23T23:08:27.145Z\n",
      "/workspaces/gdrive-curator/sheets/outcomes/第1層\n",
      "第1層 in 2022-10-20T08:31:14.819Z\n",
      "/workspaces/gdrive-curator/sheets/general/略語集\n",
      "略語集 in 2022-04-18T03:25:01.504Z\n",
      "/workspaces/gdrive-curator/sheets/general/H28\n",
      "H28 in 2022-03-15T07:36:05.798Z\n"
     ]
    }
   ],
   "source": [
    "import os\n",
    "import tempfile\n",
    "import pandas as pd\n",
    "import csv\n",
    "import shutil\n",
    "\n",
    "from lib.utils import BASE_DIR\n",
    "from lib.export_google_sheets import export_google_sheets\n",
    "\n",
    "\n",
    "folder_dict={\n",
    "        \"general\":os.getenv(\"GDRIVE_GENERAL\",\"\"), #全体\n",
    "        \"outcomes\": os.getenv(\"GDRIVE_OUTCOME\",\"\"), #資質・能力\n",
    "}\n",
    "DIST_DIR=f\"{BASE_DIR}/sheets/\"\n",
    "\n",
    "if os.path.exists(DIST_DIR):\n",
    "    shutil.rmtree(DIST_DIR)\n",
    "\n",
    "os.makedirs(DIST_DIR,exist_ok=True)\n",
    "\n",
    "try:\n",
    "    with tempfile.TemporaryDirectory() as temp_dir:\n",
    "        file_list=export_google_sheets(folder_dict,temp_dir,info_store_file=\"\")\n",
    "        print(folder_dict)\n",
    "        for file in file_list:\n",
    "            book = pd.ExcelFile(file[\"export_path\"])\n",
    "            dir_name = os.path.join(DIST_DIR,os.path.basename(os.path.dirname(file[\"export_path\"])),file['name'])\n",
    "            print(dir_name)\n",
    "            os.makedirs(dir_name,exist_ok=True)\n",
    "            for name in book.sheet_names:\n",
    "                sheet:pd.DataFrame = book.parse(name)\n",
    "                sheet.to_csv(os.path.join(dir_name,f\"{name}.csv\"),quoting=csv.QUOTE_NONNUMERIC,encoding=\"utf_8_sig\",index=False,)\n",
    "except:\n",
    "    raise\n"
   ]
  }
 ],
 "metadata": {
  "interpreter": {
   "hash": "949777d72b0d2535278d3dc13498b2535136f6dfe0678499012e853ee9abcab1"
  },
  "kernelspec": {
   "display_name": "Python 3.10.3 64-bit",
   "language": "python",
   "name": "python3"
  },
  "language_info": {
   "codemirror_mode": {
    "name": "ipython",
    "version": 3
   },
   "file_extension": ".py",
   "mimetype": "text/x-python",
   "name": "python",
   "nbconvert_exporter": "python",
   "pygments_lexer": "ipython3",
   "version": "3.10.3"
  }
 },
 "nbformat": 4,
 "nbformat_minor": 2
}
