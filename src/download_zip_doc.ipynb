{
 "cells": [
  {
   "cell_type": "code",
   "execution_count": null,
   "metadata": {},
   "outputs": [],
   "source": [
    "import os\n",
    "import tempfile\n",
    "import pandas as pd\n",
    "import csv\n",
    "import shutil\n",
    "\n",
    "from os import path\n",
    "from lib.vars import dirs\n",
    "from lib.google_drive import from_service_account\n",
    "from lib.export_google_sheets import export_google_sheets\n",
    "from dotenv import load_dotenv\n",
    "\n",
    "load_dotenv(override=True)\n",
    "\n",
    "\n",
    "target_zip={\n",
    "    \"documents\":os.getenv(\"GDRIVE_DOCUMENTS\",\"\"), \n",
    "}\n",
    "DIST_DIR=dirs().input.docs.base\n",
    "\n",
    "\n",
    "os.makedirs(DIST_DIR,exist_ok=True)\n",
    "drive = from_service_account()\n",
    "\n",
    "try:\n",
    "    with tempfile.TemporaryDirectory() as temp_dir:\n",
    "        for name,file_id in target_zip.items():\n",
    "            dist_path=path.join(DIST_DIR,name)\n",
    "            filename = drive.download(file_id,temp_dir)\n",
    "            if os.path.exists(dist_path):\n",
    "                shutil.rmtree(dist_path)\n",
    "            os.makedirs(path.join(DIST_DIR,name))\n",
    "            shutil.unpack_archive(filename,dist_path)\n",
    "            print(f\"unpack {filename} to {dist_path}\")\n",
    "except:            \n",
    "\n",
    "    raise\n"
   ]
  }
 ],
 "metadata": {
  "interpreter": {
   "hash": "949777d72b0d2535278d3dc13498b2535136f6dfe0678499012e853ee9abcab1"
  },
  "kernelspec": {
   "display_name": "Python 3 (ipykernel)",
   "language": "python",
   "name": "python3"
  }
 },
 "nbformat": 4,
 "nbformat_minor": 2
}
