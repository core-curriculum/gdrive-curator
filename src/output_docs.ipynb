{
 "cells": [
  {
   "attachments": {},
   "cell_type": "markdown",
   "metadata": {},
   "source": [
    "# Output docs\n",
    "\n",
    "depends on download_zip_doc\n",
    "\n",
    "- 2022/ja/documents/citations.bib\n",
    "- 2022/ja/documents/index.csv\n",
    "- 2022/ja/documents/content/*.md\n"
   ]
  },
  {
   "cell_type": "code",
   "execution_count": 2,
   "metadata": {},
   "outputs": [
    {
     "name": "stdout",
     "output_type": "stream",
     "text": [
      "saving... documents/index.csv\n"
     ]
    }
   ],
   "source": [
    "import pandas as pd\n",
    "import os\n",
    "from os import path \n",
    "from lib.vars import dirs\n",
    "from lib.utils import load_csv,save_csv\n",
    "import shutil\n",
    "\n",
    "os.makedirs(dirs().output.docs,exist_ok=True)\n",
    "os.makedirs(dirs().output.docs_contents,exist_ok=True)\n",
    "\n",
    "shutil.copytree(dirs().source.docs.docs,dirs().output.docs_contents, dirs_exist_ok=True)\n",
    "shutil.copy(path.join(dirs().output.docs_contents,\"citations.bib\"),path.join(dirs().output.docs,\"citations.bib\"))\n",
    "\n",
    "document_index_columns = [\"section\",\"title\",\"filename\"]\n",
    "document_index= load_csv(path.join(dirs().source.sheets.general,\"文書一覧\",\"文書一覧.csv\"))\\\n",
    "    .loc[:,document_index_columns]\n",
    "save_csv(document_index,path.join(dirs().output.docs,\"index.csv\"))\n",
    "print(\"saving... documents/index.csv\")\n"
   ]
  }
 ],
 "metadata": {
  "interpreter": {
   "hash": "949777d72b0d2535278d3dc13498b2535136f6dfe0678499012e853ee9abcab1"
  },
  "kernelspec": {
   "display_name": "Python 3.10.3 64-bit",
   "language": "python",
   "name": "python3"
  },
  "language_info": {
   "codemirror_mode": {
    "name": "ipython",
    "version": 3
   },
   "file_extension": ".py",
   "mimetype": "text/x-python",
   "name": "python",
   "nbconvert_exporter": "python",
   "pygments_lexer": "ipython3",
   "version": "3.10.3"
  }
 },
 "nbformat": 4,
 "nbformat_minor": 2
}
