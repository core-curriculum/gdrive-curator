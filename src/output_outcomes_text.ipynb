{
 "cells": [
  {
   "cell_type": "markdown",
   "metadata": {},
   "source": [
    "# Output output text\n",
    "\n",
    "Depends on download_docx\n",
    "\n",
    "- 2022/ja/outcomes_preamble.md\n",
    "- 2022/ja/about_description.md"
   ]
  },
  {
   "cell_type": "code",
   "execution_count": null,
   "metadata": {},
   "outputs": [],
   "source": [
    "import os\n",
    "from os import path \n",
    "from lib.utils import DOCS_OUTCOMES_DIR,OUTPUT_DIR,OUTPUT_OUTCOMES_DIR,OUTPUT_DOCS_CONTENTS_DIR\n",
    "\n",
    "os.makedirs(OUTPUT_OUTCOMES_DIR,exist_ok=True)\n",
    "os.makedirs(OUTPUT_DOCS_CONTENTS_DIR,exist_ok=True)\n",
    "\n",
    "def output_outcome_document_ja(source:str,to:str):\n",
    "    with open(path.join(DOCS_OUTCOMES_DIR,source),\"r\") as f:\n",
    "        text = f.read()\n",
    "    with open(to,\"w\") as f:\n",
    "        f.write(text)\n",
    "    print(f\"output... ./output/2022/ja/{to}\")\n",
    "\n",
    "output_outcome_document_ja(\"前文.txt\",path.join(OUTPUT_OUTCOMES_DIR,\"preamble.md\"))\n",
    "output_outcome_document_ja(\"表記について.txt\",path.join(OUTPUT_DOCS_CONTENTS_DIR, \"about_description.md\"))\n"
   ]
  }
 ],
 "metadata": {
  "interpreter": {
   "hash": "949777d72b0d2535278d3dc13498b2535136f6dfe0678499012e853ee9abcab1"
  },
  "kernelspec": {
   "display_name": "Python 3.10.3 64-bit",
   "language": "python",
   "name": "python3"
  },
  "language_info": {
   "codemirror_mode": {
    "name": "ipython",
    "version": 3
   },
   "file_extension": ".py",
   "mimetype": "text/x-python",
   "name": "python",
   "nbconvert_exporter": "python",
   "pygments_lexer": "ipython3",
   "version": "3.10.3"
  }
 },
 "nbformat": 4,
 "nbformat_minor": 2
}
