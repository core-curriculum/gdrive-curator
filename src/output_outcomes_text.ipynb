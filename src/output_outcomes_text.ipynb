{
 "cells": [
  {
   "cell_type": "markdown",
   "metadata": {},
   "source": [
    "# Output output text\n",
    "\n",
    "Depends on download_docx\n",
    "\n",
    "- 2022/ja/outcomes_preamble.md"
   ]
  },
  {
   "cell_type": "code",
   "execution_count": null,
   "metadata": {},
   "outputs": [],
   "source": [
    "import os\n",
    "from os import path \n",
    "import shutil\n",
    "from lib.vars import dirs\n",
    "from lib.utils import load_text,save_text\n",
    "\n",
    "os.makedirs(dirs().output.outcomes,exist_ok=True)\n",
    "\n",
    "ja_text = load_text(path.join(dirs().source.docs.outcomes,\"前文.txt\"))\n",
    "save_text(ja_text,path.join(dirs().output.outcomes,\"preamble.md\"))\n",
    "print(\"output... preamble.md\")\n"
   ]
  }
 ],
 "metadata": {
  "interpreter": {
   "hash": "949777d72b0d2535278d3dc13498b2535136f6dfe0678499012e853ee9abcab1"
  },
  "kernelspec": {
   "display_name": "Python 3.10.3 64-bit",
   "language": "python",
   "name": "python3"
  },
  "language_info": {
   "codemirror_mode": {
    "name": "ipython",
    "version": 3
   },
   "file_extension": ".py",
   "mimetype": "text/x-python",
   "name": "python",
   "nbconvert_exporter": "python",
   "pygments_lexer": "ipython3",
   "version": "3.10.3 (main, Mar 18 2022, 16:01:59) [GCC 10.2.1 20210110]"
  }
 },
 "nbformat": 4,
 "nbformat_minor": 2
}
