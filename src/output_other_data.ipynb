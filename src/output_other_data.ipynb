{
 "cells": [
  {
   "cell_type": "markdown",
   "metadata": {},
   "source": [
    "# Output other data\n",
    "\n",
    "depends on download_sheets\n",
    "\n",
    "- 2022/ja/definitions.csv"
   ]
  },
  {
   "cell_type": "code",
   "execution_count": null,
   "metadata": {},
   "outputs": [],
   "source": [
    "# Output definitions\n",
    "\n",
    "import os\n",
    "from os import path \n",
    "from lib.utils import SHEETS_GENERAL_DIR,OUTPUT_DIR,load_csv,save_csv\n",
    "\n",
    "os.makedirs(OUTPUT_DIR,exist_ok=True)\n",
    "\n",
    "df = load_csv(path.join(SHEETS_GENERAL_DIR,\"略語集\",\"略語.csv\"))\n",
    "save_csv(df,path.join(OUTPUT_DIR,\"definitions.csv\"))\n",
    "print(f\"output... definitions.csv\")\n"
   ]
  }
 ],
 "metadata": {
  "kernelspec": {
   "display_name": "Python 3.10.3 64-bit",
   "language": "python",
   "name": "python3"
  },
  "language_info": {
   "codemirror_mode": {
    "name": "ipython",
    "version": 3
   },
   "file_extension": ".py",
   "mimetype": "text/x-python",
   "name": "python",
   "nbconvert_exporter": "python",
   "pygments_lexer": "ipython3",
   "version": "3.10.3"
  },
  "vscode": {
   "interpreter": {
    "hash": "949777d72b0d2535278d3dc13498b2535136f6dfe0678499012e853ee9abcab1"
   }
  }
 },
 "nbformat": 4,
 "nbformat_minor": 2
}
