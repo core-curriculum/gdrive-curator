{
 "cells": [
  {
   "cell_type": "markdown",
   "metadata": {},
   "source": [
    "# Output other data\n",
    "\n",
    "depends on download_sheets\n",
    "\n",
    "- 2022/ja/definitions.csv"
   ]
  },
  {
   "cell_type": "code",
   "execution_count": null,
   "metadata": {},
   "outputs": [],
   "source": [
    "# Output definitions\n",
    "\n",
    "import re\n",
    "import os\n",
    "import pandas as pd\n",
    "from lib.utils import BASE_DIR,SHEETS_GENERAL_DIR,SHEETS_OUTCOMES_DIR,OUTPUT_DIR,OUTCOME_TABLE_SOURCE_DIR,TABLE_FORMATTED_DIR\n",
    "\n",
    "\n",
    "os.makedirs(OUTPUT_DIR,exist_ok=True)\n",
    "\n",
    "\n",
    "df = pd.read_csv(f\"{SHEETS_GENERAL_DIR}/略語集/略語.csv\",encoding=\"utf_8_sig\")\n",
    "df.to_csv(f\"{OUTPUT_DIR}/definitions.csv\",encoding=\"utf_8_sig\",index=False)\n",
    "print(f\"output... definitions.csv\")\n"
   ]
  }
 ],
 "metadata": {
  "kernelspec": {
   "display_name": "Python 3.10.3 64-bit",
   "language": "python",
   "name": "python3"
  },
  "language_info": {
   "codemirror_mode": {
    "name": "ipython",
    "version": 3
   },
   "file_extension": ".py",
   "mimetype": "text/x-python",
   "name": "python",
   "nbconvert_exporter": "python",
   "pygments_lexer": "ipython3",
   "version": "3.10.3"
  },
  "vscode": {
   "interpreter": {
    "hash": "949777d72b0d2535278d3dc13498b2535136f6dfe0678499012e853ee9abcab1"
   }
  }
 },
 "nbformat": 4,
 "nbformat_minor": 2
}
