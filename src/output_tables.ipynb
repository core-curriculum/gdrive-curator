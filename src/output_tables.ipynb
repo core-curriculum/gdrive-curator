{
 "cells": [
  {
   "attachments": {},
   "cell_type": "markdown",
   "metadata": {},
   "source": [
    "# Output tables\n",
    "\n",
    "depends on download_sheets\n",
    "\n",
    "- tables_index.csv\n",
    "- tables(tables/*.csv)\n"
   ]
  },
  {
   "cell_type": "code",
   "execution_count": null,
   "metadata": {},
   "outputs": [],
   "source": [
    "\"\"\"\n",
    "output tables\n",
    "\"\"\"\n",
    "import re\n",
    "import os\n",
    "from os import path\n",
    "import pandas as pd\n",
    "from lib.utils import save_csv\n",
    "from lib.apply_condition_to_dataframe  import apply_condition_to_dataframe\n",
    "from lib.tables_utils import get_table_index,iter_tables_for_outcome_raw\n",
    "from lib.vars import dirs\n",
    "\n",
    "for lang in (\"en\",\"ja\"):\n",
    "    output_dir = dirs(lang).output.tables\n",
    "    os.makedirs(output_dir,exist_ok=True)\n",
    "\n",
    "    for table,info in iter_tables_for_outcome_raw(lang):\n",
    "        columns_dict = dict([line.split(\":\") for line in re.split(r\" *, *\",info.columns)])\n",
    "        columns_dict_swap = {v:k for k,v in columns_dict.items()}\n",
    "        table = table\\\n",
    "            .loc[:,[\"index\",\"id\",*columns_dict_swap.keys()] ]\\\n",
    "            .rename(columns=columns_dict_swap)\n",
    "        print(f\"output... {info.file}({lang})\")\n",
    "        save_csv(table,path.join(output_dir,info.file))\n",
    "\n"
   ]
  },
  {
   "cell_type": "code",
   "execution_count": null,
   "metadata": {},
   "outputs": [],
   "source": [
    "\"\"\"\n",
    "output table_index\n",
    "\"\"\"\n",
    "from os import path,makedirs\n",
    "from lib.utils import save_csv\n",
    "from lib.vars import dirs\n",
    "from lib.tables_utils import get_table_index\n",
    "\n",
    "table_index_columns = [\"id\",\"index\",\"name\",\"file\",\"legend\",\"number\",\"columns\",\"main\"]\n",
    "\n",
    "\n",
    "for lang in (\"ja\",\"en\"):\n",
    "    output_dir = dirs(lang).output.tables\n",
    "    makedirs(output_dir,exist_ok=True)\n",
    "    table_index = get_table_index(lang).loc[:,table_index_columns]\n",
    "    save_csv(table_index,path.join(output_dir,\"index.csv\"))\n",
    "    print(f\"output... index.csv({lang})\")\n"
   ]
  }
 ],
 "metadata": {
  "kernelspec": {
   "display_name": "Python 3",
   "language": "python",
   "name": "python3"
  },
  "language_info": {
   "codemirror_mode": {
    "name": "ipython",
    "version": 3
   },
   "file_extension": ".py",
   "mimetype": "text/x-python",
   "name": "python",
   "nbconvert_exporter": "python",
   "pygments_lexer": "ipython3",
   "version": "3.10.3 (main, Mar 18 2022, 16:01:59) [GCC 10.2.1 20210110]"
  },
  "vscode": {
   "interpreter": {
    "hash": "949777d72b0d2535278d3dc13498b2535136f6dfe0678499012e853ee9abcab1"
   }
  }
 },
 "nbformat": 4,
 "nbformat_minor": 2
}
